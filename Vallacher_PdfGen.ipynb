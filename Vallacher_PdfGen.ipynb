{
 "cells": [
  {
   "cell_type": "code",
   "execution_count": 1,
   "metadata": {},
   "outputs": [],
   "source": [
    "import pdfkit\n",
    "from string import Template\n",
    "import numpy as np\n",
    "\n",
    "from PyPDF2 import PdfFileReader, PdfFileMerger\n",
    "import glob"
   ]
  },
  {
   "cell_type": "code",
   "execution_count": 2,
   "metadata": {},
   "outputs": [],
   "source": [
    "temp_address = r'C:\\Users\\Ol\\Documents\\EXPERIMENTS\\ACT_ID\\Materials\\projectsListTemp_pl.html'"
   ]
  },
  {
   "cell_type": "code",
   "execution_count": 3,
   "metadata": {},
   "outputs": [],
   "source": [
    "# Import content\n",
    "with open(r'C:\\Users\\Ol\\Documents\\EXPERIMENTS\\ACT_ID\\Materials\\progs_.txt', 'r', encoding='utf-8') as f:\n",
    "    content = f.readlines()"
   ]
  },
  {
   "cell_type": "code",
   "execution_count": 4,
   "metadata": {},
   "outputs": [],
   "source": [
    "# Strip newline characters\n",
    "content = [x.strip('\\n') for x in content]"
   ]
  },
  {
   "cell_type": "code",
   "execution_count": 5,
   "metadata": {},
   "outputs": [],
   "source": [
    "header = \"\"\"&emsp;&emsp;Poniżej znajdziesz 10 krótkich opisów projektów naukowych \n",
    "i edukacyjnych, które będą dostępne dla studentów Florida Atlantic University i Uniwersytetu \n",
    "Warszawskiego w ramach międzynarodowego projektu \n",
    "realizowanego przy współpracy Instytutu Studiów Społecznych UW (ISS UW) oraz \n",
    "Departament of Psychology at Florida Atlantic University.\n",
    "<br><br>\n",
    "Chcemy Cię prosić o ich ocenę. Uporządkuj je według Twoich \n",
    "preferencji.\n",
    "<br><br>\n",
    "<b>1</b> oznacza, że przyznajesz pierwsze miejsce, <b>10</b>, że ostatnie. \n",
    "<br><br>\n",
    "Udział w którym projekcie byłby dla Ciebie najbardziej atrakcyjny? <br><br>\n",
    "\"\"\""
   ]
  },
  {
   "cell_type": "code",
   "execution_count": 6,
   "metadata": {},
   "outputs": [],
   "source": [
    "def fill_temp(template_location, content):\n",
    "    \n",
    "    with open(template_location) as f:\n",
    "        template = f.read()\n",
    "    \n",
    "    template = Template(template[6:])\n",
    "\n",
    "    filled = template.safe_substitute(HEADER = header,\n",
    "                                      DESCR = 'Skrócony opis projektu',\n",
    "                                      POS = 'Pozycja',\n",
    "                                              P1 = content[choice[0]],\n",
    "                                              P2 = content[choice[1]],\n",
    "                                              P3 = content[choice[2]],\n",
    "                                              P4 = content[choice[3]],\n",
    "                                              P5 = content[choice[4]],\n",
    "                                              P6 = content[choice[5]],\n",
    "                                              P7 = content[choice[6]],\n",
    "                                              P8 = content[choice[7]],\n",
    "                                              P9 = content[choice[8]],\n",
    "                                              P10 = content[choice[9]])\n",
    "    \n",
    "    return filled\n",
    "    "
   ]
  },
  {
   "cell_type": "code",
   "execution_count": 7,
   "metadata": {},
   "outputs": [],
   "source": [
    "# Define options\n",
    "options = {'page-size': 'A4',\n",
    "          'encoding': \"utf-8\"}"
   ]
  },
  {
   "cell_type": "code",
   "execution_count": 8,
   "metadata": {},
   "outputs": [
    {
     "name": "stdout",
     "output_type": "stream",
     "text": [
      "Loading pages (1/6)\n",
      "QNetworkAccessFileBackendFactory: URL has no schema set, use file:// for files\n",
      "Counting pages (2/6)                                               \n",
      "Resolving links (4/6)                                                       \n",
      "Loading headers and footers (5/6)                                           \n",
      "Printing pages (6/6)\n",
      "Done                                                                      \n",
      "Loading pages (1/6)\n",
      "QNetworkAccessFileBackendFactory: URL has no schema set, use file:// for files\n",
      "Counting pages (2/6)                                               \n",
      "Resolving links (4/6)                                                       \n",
      "Loading headers and footers (5/6)                                           \n",
      "Printing pages (6/6)\n",
      "Done                                                                      \n",
      "Loading pages (1/6)\n",
      "QNetworkAccessFileBackendFactory: URL has no schema set, use file:// for files\n",
      "Counting pages (2/6)                                               \n",
      "Resolving links (4/6)                                                       \n",
      "Loading headers and footers (5/6)                                           \n",
      "Printing pages (6/6)\n",
      "Done                                                                      \n",
      "Loading pages (1/6)\n",
      "QNetworkAccessFileBackendFactory: URL has no schema set, use file:// for files\n",
      "Counting pages (2/6)                                               \n",
      "Resolving links (4/6)                                                       \n",
      "Loading headers and footers (5/6)                                           \n",
      "Printing pages (6/6)\n",
      "Done                                                                      \n",
      "Loading pages (1/6)\n",
      "QNetworkAccessFileBackendFactory: URL has no schema set, use file:// for files\n",
      "Counting pages (2/6)                                               \n",
      "Resolving links (4/6)                                                       \n",
      "Loading headers and footers (5/6)                                           \n",
      "Printing pages (6/6)\n",
      "Done                                                                      \n",
      "Loading pages (1/6)\n",
      "QNetworkAccessFileBackendFactory: URL has no schema set, use file:// for files\n",
      "Counting pages (2/6)                                               \n",
      "Resolving links (4/6)                                                       \n",
      "Loading headers and footers (5/6)                                           \n",
      "Printing pages (6/6)\n",
      "Done                                                                      \n",
      "Loading pages (1/6)\n",
      "QNetworkAccessFileBackendFactory: URL has no schema set, use file:// for files\n",
      "Counting pages (2/6)                                               \n",
      "Resolving links (4/6)                                                       \n",
      "Loading headers and footers (5/6)                                           \n",
      "Printing pages (6/6)\n",
      "Done                                                                      \n",
      "Loading pages (1/6)\n",
      "QNetworkAccessFileBackendFactory: URL has no schema set, use file:// for files\n",
      "Counting pages (2/6)                                               \n",
      "Resolving links (4/6)                                                       \n",
      "Loading headers and footers (5/6)                                           \n",
      "Printing pages (6/6)\n",
      "Done                                                                      \n",
      "Loading pages (1/6)\n",
      "QNetworkAccessFileBackendFactory: URL has no schema set, use file:// for files\n",
      "Counting pages (2/6)                                               \n",
      "Resolving links (4/6)                                                       \n",
      "Loading headers and footers (5/6)                                           \n",
      "Printing pages (6/6)\n",
      "Done                                                                      \n",
      "Loading pages (1/6)\n",
      "QNetworkAccessFileBackendFactory: URL has no schema set, use file:// for files\n",
      "Counting pages (2/6)                                               \n",
      "Resolving links (4/6)                                                       \n",
      "Loading headers and footers (5/6)                                           \n",
      "Printing pages (6/6)\n",
      "Done                                                                      \n"
     ]
    }
   ],
   "source": [
    "# Generate pdfs\n",
    "for i in range(50):\n",
    "    choice = np.random.choice(10, 10, replace=False)\n",
    "    quest_ready = fill_temp(temp_address, content)\n",
    "    pdfkit.from_string(quest_ready, r'C:\\Users\\Ol\\Documents\\EXPERIMENTS\\ACT_ID\\Materials\\Pdf\\pList{:02}.pdf'.format(50+i), options=options)"
   ]
  },
  {
   "cell_type": "markdown",
   "metadata": {},
   "source": [
    "## Merge files\n",
    "\n",
    "into one printable pdf"
   ]
  },
  {
   "cell_type": "code",
   "execution_count": 12,
   "metadata": {},
   "outputs": [],
   "source": [
    "# Define naming pattern\n",
    "pattern = r'C:\\Users\\Ol\\Documents\\EXPERIMENTS\\ACT_ID\\Materials\\PDF\\2\\*.pdf'"
   ]
  },
  {
   "cell_type": "code",
   "execution_count": 13,
   "metadata": {},
   "outputs": [],
   "source": [
    "# Generate files list\n",
    "pdfs_list = glob.glob(pattern)"
   ]
  },
  {
   "cell_type": "code",
   "execution_count": 14,
   "metadata": {},
   "outputs": [],
   "source": [
    "# Merge and write the output file\n",
    "\n",
    "merger = PdfFileMerger()\n",
    "\n",
    "for f in pdfs_list:\n",
    "    merger.append(PdfFileReader(f), 'rb')\n",
    "\n",
    "merger.write(r'C:\\Users\\Ol\\Documents\\EXPERIMENTS\\ACT_ID\\Materials\\PDF\\FAU_UW_project2.pdf')"
   ]
  },
  {
   "cell_type": "code",
   "execution_count": null,
   "metadata": {},
   "outputs": [],
   "source": []
  }
 ],
 "metadata": {
  "kernelspec": {
   "display_name": "Python 3",
   "language": "python",
   "name": "python3"
  },
  "language_info": {
   "codemirror_mode": {
    "name": "ipython",
    "version": 3
   },
   "file_extension": ".py",
   "mimetype": "text/x-python",
   "name": "python",
   "nbconvert_exporter": "python",
   "pygments_lexer": "ipython3",
   "version": "3.6.4"
  }
 },
 "nbformat": 4,
 "nbformat_minor": 2
}
